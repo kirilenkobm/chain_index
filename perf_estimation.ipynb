{
 "cells": [
  {
   "cell_type": "code",
   "execution_count": 1,
   "metadata": {},
   "outputs": [
    {
     "name": "stdout",
     "output_type": "stream",
     "text": [
      "CHAIN FILE: test_input/hg38.mm10.chr11.chain; TABLE_FILE: test_input/table.dat; CHAINS_NUM: 149909 \n"
     ]
    }
   ],
   "source": [
    "import os\n",
    "\n",
    "TEST_DIR = \"test_input\"\n",
    "CHAIN_FILE = os.path.join(TEST_DIR, \"hg38.mm10.chr11.chain\") \n",
    "TABLE_FILE = os.path.join(TEST_DIR, \"table.dat\")\n",
    "BDB_FILE = os.path.join(TEST_DIR, \"hg38.mm10.chr11.bdb\")\n",
    "with open(CHAIN_FILE, \"r\") as f:\n",
    "    CHAIN_IDS = [int(x.rstrip().split()[-1]) for x in f.readlines() if x.startswith(\"chain\")]\n",
    "    CHAINS_NUM = len(CHAIN_IDS)\n",
    "print(f\"CHAIN FILE: {CHAIN_FILE}; TABLE_FILE: {TABLE_FILE}; CHAINS_NUM: {CHAINS_NUM} \")"
   ]
  },
  {
   "cell_type": "code",
   "execution_count": 2,
   "metadata": {},
   "outputs": [],
   "source": [
    "%matplotlib inline\n",
    "from chain_index import chain_index\n",
    "from datetime import datetime as dt\n",
    "import matplotlib.pyplot as plt\n",
    "import random\n",
    "from statistics import mean, median\n",
    "import bsddb3"
   ]
  },
  {
   "cell_type": "code",
   "execution_count": 3,
   "metadata": {},
   "outputs": [],
   "source": [
    "times_chain_index = []\n",
    "chunk_size = 1000\n",
    "random.shuffle(CHAIN_IDS)\n",
    "chunk = CHAIN_IDS[:chunk_size]\n",
    "\n",
    "for i in range(chunk_size):\n",
    "    t0 = dt.now()\n",
    "    chain_id = CHAIN_IDS[i]\n",
    "    extractor = chain_index.chain_index()\n",
    "    ch = extractor.extract_chain(CHAIN_FILE, TABLE_FILE, chain_id)\n",
    "    t1 = dt.now() - t0\n",
    "    times_chain_index.append(t1.total_seconds())"
   ]
  },
  {
   "cell_type": "code",
   "execution_count": 4,
   "metadata": {},
   "outputs": [],
   "source": [
    "times_bdb_index = []\n",
    "\n",
    "for i in range(chunk_size):\n",
    "    t0 = dt.now()\n",
    "    chain_id = CHAIN_IDS[i]\n",
    "    db = bsddb3.btopen(BDB_FILE, \"r\")\n",
    "    _ = db[str(chain_id).encode()]\n",
    "    db.close()\n",
    "    t1 = dt.now() - t0\n",
    "    times_bdb_index.append(t1.total_seconds())"
   ]
  },
  {
   "cell_type": "code",
   "execution_count": 5,
   "metadata": {},
   "outputs": [
    {
     "data": {
      "image/png": "[encoded data removed]",
      "text/plain": [
       "<Figure size 1080x576 with 1 Axes>"
      ]
     },
     "metadata": {
      "needs_background": "light"
     },
     "output_type": "display_data"
    },
    {
     "name": "stdout",
     "output_type": "stream",
     "text": [
      "My Mean time: 0.005475467s; median: 0.005089s\n",
      "BDB: 0.001076336s; median: 0.001062s\n"
     ]
    }
   ],
   "source": [
    "fig = plt.figure(figsize=(15, 8))\n",
    "plt.hist(times_chain_index, bins=100)\n",
    "plt.hist(times_bdb_index, bins=100)\n",
    "plt.grid()\n",
    "# plt.xlim(0, 0.005)\n",
    "plt.show()\n",
    "print(f\"My Mean time: {mean(times_chain_index)}s; median: {median(times_chain_index)}s\")\n",
    "print(f\"BDB: {mean(times_bdb_index)}s; median: {median(times_bdb_index)}s\")"
   ]
  }
 ],
 "metadata": {
  "kernelspec": {
   "display_name": "Python 3",
   "language": "python",
   "name": "python3"
  },
  "language_info": {
   "codemirror_mode": {
    "name": "ipython",
    "version": 3
   },
   "file_extension": ".py",
   "mimetype": "text/x-python",
   "name": "python",
   "nbconvert_exporter": "python",
   "pygments_lexer": "ipython3",
   "version": "3.7.3"
  }
 },
 "nbformat": 4,
 "nbformat_minor": 2
}
